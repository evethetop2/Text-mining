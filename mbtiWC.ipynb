{
 "cells": [
  {
   "cell_type": "code",
   "execution_count": null,
   "metadata": {},
   "outputs": [],
   "source": [
    "#라이브러리 호출\n",
    "import requests\n",
    "from bs4 import BeautifulSoup\n",
    "import pandas as pd\n",
    "import re\n",
    "from collections import Counter\n",
    "import matplotlib.pyplot as plt\n",
    "from konlpy.tag import Okt\n",
    "from wordcloud import WordCloud\n",
    "okt = Okt()\n",
    "%matplotlib inline\n"
   ]
  },
  {
   "cell_type": "code",
   "execution_count": null,
   "metadata": {},
   "outputs": [],
   "source": [
    "#한글폰트 설치\n",
    "!sudo apt-get install -y fonts-nanum\n",
    "!sudo fc-cache -fv\n",
    "!rm ~/.cache/matplotlib -rf"
   ]
  },
  {
   "cell_type": "code",
   "execution_count": null,
   "metadata": {},
   "outputs": [],
   "source": [
    "#url변수\n",
    "url_infp = \"https://www.16personalities.com/ko/%EC%84%B1%EA%B2%A9%EC%9C%A0%ED%98%95-infp\"\n",
    "url_infj = \"https://www.16personalities.com/ko/%EC%84%B1%EA%B2%A9%EC%9C%A0%ED%98%95-infj\"\n",
    "url_enfj = \"https://www.16personalities.com/ko/%EC%84%B1%EA%B2%A9%EC%9C%A0%ED%98%95-enfj\"\n",
    "url_enfp = \"https://www.16personalities.com/ko/%EC%84%B1%EA%B2%A9%EC%9C%A0%ED%98%95-enfp\"\n",
    "url_istp = \"https://www.16personalities.com/ko/%EC%84%B1%EA%B2%A9%EC%9C%A0%ED%98%95-istp\"\n",
    "url_isfp = \"https://www.16personalities.com/ko/%EC%84%B1%EA%B2%A9%EC%9C%A0%ED%98%95-isfp\"\n",
    "url_estp = \"https://www.16personalities.com/ko/%EC%84%B1%EA%B2%A9%EC%9C%A0%ED%98%95-estp\"\n",
    "url_esfp = \"https://www.16personalities.com/ko/%EC%84%B1%EA%B2%A9%EC%9C%A0%ED%98%95-esfp\"\n",
    "url_istj = \"https://www.16personalities.com/ko/%EC%84%B1%EA%B2%A9%EC%9C%A0%ED%98%95-istj\"\n",
    "url_isfj = \"https://www.16personalities.com/ko/%EC%84%B1%EA%B2%A9%EC%9C%A0%ED%98%95-isfj\"\n",
    "url_estj = \"https://www.16personalities.com/ko/%EC%84%B1%EA%B2%A9%EC%9C%A0%ED%98%95-estj\"\n",
    "url_esfj = \"https://www.16personalities.com/ko/%EC%84%B1%EA%B2%A9%EC%9C%A0%ED%98%95-esfj\"\n",
    "url_intj = \"https://www.16personalities.com/ko/%EC%84%B1%EA%B2%A9%EC%9C%A0%ED%98%95-intj\"\n",
    "url_intp = \"https://www.16personalities.com/ko/%EC%84%B1%EA%B2%A9%EC%9C%A0%ED%98%95-intp\"\n",
    "url_entj = \"https://www.16personalities.com/ko/%EC%84%B1%EA%B2%A9%EC%9C%A0%ED%98%95-entj\"\n",
    "url_entp = \"https://www.16personalities.com/ko/%EC%84%B1%EA%B2%A9%EC%9C%A0%ED%98%95-entp\"\n",
    "\n",
    "def web_scrapping(url):\n",
    "    #웹스크래핑\n",
    "    res =requests.get(url)\n",
    "    res.raise_for_status() #웹페이지에 접근가능한지 체크\n",
    "    soup = BeautifulSoup(res.text, \"lxml\") #lxml = 파서\n",
    "    text= soup.find(attrs= {\"class\":\"main description\"}).get_text() #Xpath 경로를 활용해 스크래핑\n",
    "    print(\"원본 텍스트: \"+ text)\n",
    "\n",
    "    #텍스트 클렌징\n",
    "    cleansed_text = re.sub('[^\\s\\w]', ' ', text)\n",
    "    cleansed_text = re.sub('\\s+', ' ', cleansed_text)\n",
    "    print(\"클렌징된 텍스트: \", cleansed_text, \"\\n\")\n",
    "\n",
    "    #품사태깅\n",
    "    pos_word_list = okt.pos(cleansed_text, stem=True)\n",
    "    pos_list = ['Adjective'] #형용사가 유의미한 정보를 잘 나타내주는 것 같아서 동사,명사는 제외\n",
    "    pos_filtered_list=[]\n",
    "    for word, pos in pos_word_list:\n",
    "        if pos in pos_list:\n",
    "            pos_filtered_list.append(word)\n",
    "    print(\"품사태깅된 텍스트: \", pos_filtered_list, \"\\n\")\n",
    "    \n",
    "    #불용어 제거\n",
    "    new_pos_filtered_list = []\n",
    "    stop_word_list = [\"있다\", \"이다\", \"없다\",\"아니다\", \"중요하다\",\"어떠하다\",\"좋다\",\"이러하다\",\"그렇다\",\"좋다\", \"필요하다\",\"좋아하다\",\"같다\",\"많다\",\"적다\",\"이렇다\",\"이러하다\"]\n",
    "    \n",
    "    for i in pos_filtered_list:\n",
    "        if i not in stop_word_list:\n",
    "            new_pos_filtered_list.append(i)\n",
    "    print(\"불용어 제거된 리스트: \", new_pos_filtered_list, '\\n')\n",
    "\n",
    "    #워드 클라우드 생성\n",
    "    c = Counter(new_pos_filtered_list)\n",
    "    print(\"단어별 빈도수: \", c.most_common(100), \"\\n\")\n",
    "\n",
    "    #워드 클라우드 시각화\n",
    "    word_dict = dict(c.most_common(100))\n",
    "\n",
    "    wc = WordCloud(font_path = 'NanumGothic.ttf',\n",
    "               background_color ='white',\n",
    "               width= 3000, height=2000,\n",
    "               min_font_size= 10)\n",
    "\n",
    "    cloud = wc.generate_from_frequencies(word_dict)\n",
    "    #워드 클라우드 출력\n",
    "    plt.imshow(cloud)\n",
    "    plt.axis('off')\n",
    "    plt.show()\n",
    "\n",
    "#함수 실행\n",
    "web_scrapping(url_isfp)\n"
   ]
  }
 ],
 "metadata": {
  "kernelspec": {
   "display_name": "Python 3.8.8 ('base')",
   "language": "python",
   "name": "python3"
  },
  "language_info": {
   "codemirror_mode": {
    "name": "ipython",
    "version": 3
   },
   "file_extension": ".py",
   "mimetype": "text/x-python",
   "name": "python",
   "nbconvert_exporter": "python",
   "pygments_lexer": "ipython3",
   "version": "3.8.8"
  },
  "orig_nbformat": 4,
  "vscode": {
   "interpreter": {
    "hash": "48cfc0c75b54e3dc3460698524769dd419c675b46f7d6a51770dfbe5ef4fe99c"
   }
  }
 },
 "nbformat": 4,
 "nbformat_minor": 2
}
